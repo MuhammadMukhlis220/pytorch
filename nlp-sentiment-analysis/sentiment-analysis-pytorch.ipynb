{
 "cells": [
  {
   "cell_type": "code",
   "execution_count": null,
   "id": "79f2f79d",
   "metadata": {},
   "outputs": [],
   "source": [
    "'''\n",
    "conda env config vars set TORCH_HOME=\"C:\\Users\\mmukh\\Desktop\\project\\ds\\pytorch\\model\"\n",
    "conda env config vars set TRANSFORMERS_CACHE=\"C:\\Users\\mmukh\\Desktop\\project\\ds\\pytorch\\model\"\n",
    "\n",
    "pip install ipywidgets ipykernel huggingface_hub[hf_xet] torch torchvision torchaudio transformers\n",
    "'''"
   ]
  },
  {
   "cell_type": "code",
   "execution_count": 1,
   "id": "4aa9c1c8",
   "metadata": {},
   "outputs": [
    {
     "name": "stderr",
     "output_type": "stream",
     "text": [
      "c:\\Users\\mmukh\\miniconda3\\envs\\mlpytorch\\Lib\\site-packages\\transformers\\utils\\hub.py:111: FutureWarning: Using `TRANSFORMERS_CACHE` is deprecated and will be removed in v5 of Transformers. Use `HF_HOME` instead.\n",
      "  warnings.warn(\n"
     ]
    }
   ],
   "source": [
    "from transformers import pipeline\n",
    "import pandas as pd"
   ]
  },
  {
   "cell_type": "code",
   "execution_count": 2,
   "id": "9b45e6b3",
   "metadata": {},
   "outputs": [
    {
     "name": "stderr",
     "output_type": "stream",
     "text": [
      "No model was supplied, defaulted to distilbert/distilbert-base-uncased-finetuned-sst-2-english and revision 714eb0f (https://huggingface.co/distilbert/distilbert-base-uncased-finetuned-sst-2-english).\n",
      "Using a pipeline without specifying a model name and revision in production is not recommended.\n",
      "Device set to use cpu\n"
     ]
    },
    {
     "name": "stdout",
     "output_type": "stream",
     "text": [
      "Comment: Gokil nih, keren banget!\n",
      "Sentiment: POSITIVE, Score: 0.9015\n",
      "\n",
      "Comment: Gak ngerti deh sama yang ini, bikin pusing\n",
      "Sentiment: NEGATIVE, Score: 0.9799\n",
      "\n",
      "Comment: Wkwk, lucu parah sih chatnya\n",
      "Sentiment: NEGATIVE, Score: 0.9829\n",
      "\n",
      "Comment: b aja sih, gak sebagus yang diharap\n",
      "Sentiment: NEGATIVE, Score: 0.9818\n",
      "\n",
      "Comment: terimakasih ya bro!\n",
      "Sentiment: POSITIVE, Score: 0.9360\n",
      "\n",
      "Comment: i dont think this is good idea\n",
      "Sentiment: NEGATIVE, Score: 0.9951\n",
      "\n",
      "Comment: I love this! Soooo amazing.\n",
      "Sentiment: POSITIVE, Score: 0.9999\n",
      "\n",
      "Comment: This is the worst experience I've ever had\n",
      "Sentiment: NEGATIVE, Score: 0.9998\n",
      "\n"
     ]
    }
   ],
   "source": [
    "sentiment_pipeline = pipeline(\"sentiment-analysis\")\n",
    "\n",
    "comments = [\n",
    "    \"Gokil nih, keren banget!\",\n",
    "    \"Gak ngerti deh sama yang ini, bikin pusing\",\n",
    "    \"Wkwk, lucu parah sih chatnya\",\n",
    "    \"b aja sih, gak sebagus yang diharap\",\n",
    "    \"terimakasih ya bro!\",\n",
    "    \"i dont think this is good idea\",\n",
    "    \"I love this! Soooo amazing.\",\n",
    "    \"This is the worst experience I've ever had\"\n",
    "]\n",
    "\n",
    "results = sentiment_pipeline(comments)\n",
    "\n",
    "for comment, result in zip(comments, results):\n",
    "    print(f\"Comment: {comment}\")\n",
    "    print(f\"Sentiment: {result['label']}, Score: {result['score']:.4f}\\n\")"
   ]
  },
  {
   "cell_type": "markdown",
   "id": "5ac190cc",
   "metadata": {},
   "source": [
    "### Insert as PANDAS dataframe"
   ]
  },
  {
   "cell_type": "code",
   "execution_count": 3,
   "id": "0cb72e9c",
   "metadata": {},
   "outputs": [
    {
     "data": {
      "text/html": [
       "<div>\n",
       "<style scoped>\n",
       "    .dataframe tbody tr th:only-of-type {\n",
       "        vertical-align: middle;\n",
       "    }\n",
       "\n",
       "    .dataframe tbody tr th {\n",
       "        vertical-align: top;\n",
       "    }\n",
       "\n",
       "    .dataframe thead th {\n",
       "        text-align: right;\n",
       "    }\n",
       "</style>\n",
       "<table border=\"1\" class=\"dataframe\">\n",
       "  <thead>\n",
       "    <tr style=\"text-align: right;\">\n",
       "      <th></th>\n",
       "      <th>comment</th>\n",
       "      <th>label</th>\n",
       "      <th>score</th>\n",
       "    </tr>\n",
       "  </thead>\n",
       "  <tbody>\n",
       "    <tr>\n",
       "      <th>0</th>\n",
       "      <td>Gokil nih, keren banget!</td>\n",
       "      <td>POSITIVE</td>\n",
       "      <td>0.901475</td>\n",
       "    </tr>\n",
       "    <tr>\n",
       "      <th>1</th>\n",
       "      <td>Gak ngerti deh sama yang ini, bikin pusing</td>\n",
       "      <td>NEGATIVE</td>\n",
       "      <td>0.979914</td>\n",
       "    </tr>\n",
       "    <tr>\n",
       "      <th>2</th>\n",
       "      <td>Wkwk, lucu parah sih chatnya</td>\n",
       "      <td>NEGATIVE</td>\n",
       "      <td>0.982915</td>\n",
       "    </tr>\n",
       "    <tr>\n",
       "      <th>3</th>\n",
       "      <td>b aja sih, gak sebagus yang diharap</td>\n",
       "      <td>NEGATIVE</td>\n",
       "      <td>0.981776</td>\n",
       "    </tr>\n",
       "    <tr>\n",
       "      <th>4</th>\n",
       "      <td>terimakasih ya bro!</td>\n",
       "      <td>POSITIVE</td>\n",
       "      <td>0.935963</td>\n",
       "    </tr>\n",
       "    <tr>\n",
       "      <th>5</th>\n",
       "      <td>i dont think this is good idea</td>\n",
       "      <td>NEGATIVE</td>\n",
       "      <td>0.995095</td>\n",
       "    </tr>\n",
       "    <tr>\n",
       "      <th>6</th>\n",
       "      <td>I love this! Soooo amazing.</td>\n",
       "      <td>POSITIVE</td>\n",
       "      <td>0.999881</td>\n",
       "    </tr>\n",
       "    <tr>\n",
       "      <th>7</th>\n",
       "      <td>This is the worst experience I've ever had</td>\n",
       "      <td>NEGATIVE</td>\n",
       "      <td>0.999774</td>\n",
       "    </tr>\n",
       "  </tbody>\n",
       "</table>\n",
       "</div>"
      ],
      "text/plain": [
       "                                      comment     label     score\n",
       "0                    Gokil nih, keren banget!  POSITIVE  0.901475\n",
       "1  Gak ngerti deh sama yang ini, bikin pusing  NEGATIVE  0.979914\n",
       "2                Wkwk, lucu parah sih chatnya  NEGATIVE  0.982915\n",
       "3         b aja sih, gak sebagus yang diharap  NEGATIVE  0.981776\n",
       "4                         terimakasih ya bro!  POSITIVE  0.935963\n",
       "5              i dont think this is good idea  NEGATIVE  0.995095\n",
       "6                 I love this! Soooo amazing.  POSITIVE  0.999881\n",
       "7  This is the worst experience I've ever had  NEGATIVE  0.999774"
      ]
     },
     "execution_count": 3,
     "metadata": {},
     "output_type": "execute_result"
    }
   ],
   "source": [
    "data = []\n",
    "for comment, res in zip(comments, results):\n",
    "    data.append({\n",
    "        'comment': comment,\n",
    "        'label': res['label'],\n",
    "        'score': res['score']\n",
    "    })\n",
    "\n",
    "df = pd.DataFrame(data)\n",
    "df"
   ]
  }
 ],
 "metadata": {
  "kernelspec": {
   "display_name": "mlpytorch",
   "language": "python",
   "name": "python3"
  },
  "language_info": {
   "codemirror_mode": {
    "name": "ipython",
    "version": 3
   },
   "file_extension": ".py",
   "mimetype": "text/x-python",
   "name": "python",
   "nbconvert_exporter": "python",
   "pygments_lexer": "ipython3",
   "version": "3.13.5"
  }
 },
 "nbformat": 4,
 "nbformat_minor": 5
}
