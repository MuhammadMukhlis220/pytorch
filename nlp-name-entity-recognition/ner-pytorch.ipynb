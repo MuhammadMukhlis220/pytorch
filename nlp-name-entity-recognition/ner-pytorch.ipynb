{
 "cells": [
  {
   "cell_type": "code",
   "execution_count": null,
   "id": "d50310ec",
   "metadata": {},
   "outputs": [],
   "source": [
    "'''\n",
    "conda env config vars set TORCH_HOME=\"C:\\Users\\mmukh\\Desktop\\project\\ds\\pytorch\\model\"\n",
    "conda env config vars set TRANSFORMERS_CACHE=\"C:\\Users\\mmukh\\Desktop\\project\\ds\\pytorch\\model\"\n",
    "\n",
    "pip install ipywidgets ipykernel huggingface_hub[hf_xet] torch torchvision torchaudio transformers\n",
    "'''"
   ]
  },
  {
   "cell_type": "code",
   "execution_count": 1,
   "id": "b54408bf",
   "metadata": {},
   "outputs": [
    {
     "name": "stderr",
     "output_type": "stream",
     "text": [
      "c:\\Users\\mmukh\\miniconda3\\envs\\mlpytorch\\Lib\\site-packages\\transformers\\utils\\hub.py:111: FutureWarning: Using `TRANSFORMERS_CACHE` is deprecated and will be removed in v5 of Transformers. Use `HF_HOME` instead.\n",
      "  warnings.warn(\n"
     ]
    }
   ],
   "source": [
    "from transformers import AutoTokenizer, AutoModelForTokenClassification\n",
    "from transformers import pipeline\n",
    "import pandas as pd"
   ]
  },
  {
   "cell_type": "code",
   "execution_count": 2,
   "id": "861eeb70",
   "metadata": {},
   "outputs": [
    {
     "data": {
      "application/vnd.jupyter.widget-view+json": {
       "model_id": "c95cad5ec913471895dcd583eb8307e4",
       "version_major": 2,
       "version_minor": 0
      },
      "text/plain": [
       "tokenizer_config.json:   0%|          | 0.00/60.0 [00:00<?, ?B/s]"
      ]
     },
     "metadata": {},
     "output_type": "display_data"
    },
    {
     "name": "stderr",
     "output_type": "stream",
     "text": [
      "c:\\Users\\mmukh\\miniconda3\\envs\\mlpytorch\\Lib\\site-packages\\huggingface_hub\\file_download.py:143: UserWarning: `huggingface_hub` cache-system uses symlinks by default to efficiently store duplicated files but your machine does not support them in C:\\Users\\mmukh\\Desktop\\project\\ds\\pytorch\\model\\models--dbmdz--bert-large-cased-finetuned-conll03-english. Caching files will still work but in a degraded version that might require more space on your disk. This warning can be disabled by setting the `HF_HUB_DISABLE_SYMLINKS_WARNING` environment variable. For more details, see https://huggingface.co/docs/huggingface_hub/how-to-cache#limitations.\n",
      "To support symlinks on Windows, you either need to activate Developer Mode or to run Python as an administrator. In order to activate developer mode, see this article: https://docs.microsoft.com/en-us/windows/apps/get-started/enable-your-device-for-development\n",
      "  warnings.warn(message)\n"
     ]
    },
    {
     "data": {
      "application/vnd.jupyter.widget-view+json": {
       "model_id": "e9cbbcafe94e4f928dbde31b38155090",
       "version_major": 2,
       "version_minor": 0
      },
      "text/plain": [
       "config.json:   0%|          | 0.00/998 [00:00<?, ?B/s]"
      ]
     },
     "metadata": {},
     "output_type": "display_data"
    },
    {
     "data": {
      "application/vnd.jupyter.widget-view+json": {
       "model_id": "294abce575f6414299c855ae2e563513",
       "version_major": 2,
       "version_minor": 0
      },
      "text/plain": [
       "vocab.txt: 0.00B [00:00, ?B/s]"
      ]
     },
     "metadata": {},
     "output_type": "display_data"
    },
    {
     "data": {
      "application/vnd.jupyter.widget-view+json": {
       "model_id": "2c0f5ec4120d4416a35296030673ad93",
       "version_major": 2,
       "version_minor": 0
      },
      "text/plain": [
       "model.safetensors:   0%|          | 0.00/1.33G [00:00<?, ?B/s]"
      ]
     },
     "metadata": {},
     "output_type": "display_data"
    },
    {
     "name": "stderr",
     "output_type": "stream",
     "text": [
      "Some weights of the model checkpoint at dbmdz/bert-large-cased-finetuned-conll03-english were not used when initializing BertForTokenClassification: ['bert.pooler.dense.bias', 'bert.pooler.dense.weight']\n",
      "- This IS expected if you are initializing BertForTokenClassification from the checkpoint of a model trained on another task or with another architecture (e.g. initializing a BertForSequenceClassification model from a BertForPreTraining model).\n",
      "- This IS NOT expected if you are initializing BertForTokenClassification from the checkpoint of a model that you expect to be exactly identical (initializing a BertForSequenceClassification model from a BertForSequenceClassification model).\n",
      "Device set to use cpu\n",
      "c:\\Users\\mmukh\\miniconda3\\envs\\mlpytorch\\Lib\\site-packages\\transformers\\pipelines\\token_classification.py:186: UserWarning: `grouped_entities` is deprecated and will be removed in version v5.0.0, defaulted to `aggregation_strategy=\"AggregationStrategy.SIMPLE\"` instead.\n",
      "  warnings.warn(\n"
     ]
    },
    {
     "name": "stdout",
     "output_type": "stream",
     "text": [
      "{'entity_group': 'ORG', 'score': np.float32(0.9985711), 'word': 'Natus Vincere', 'start': 0, 'end': 13}\n",
      "{'entity_group': 'MISC', 'score': np.float32(0.94785863), 'word': 'ukrainian', 'start': 20, 'end': 29}\n",
      "{'entity_group': 'LOC', 'score': np.float32(0.99547726), 'word': 'Kyiv', 'start': 60, 'end': 64}\n",
      "{'entity_group': 'LOC', 'score': np.float32(0.99976784), 'word': 'Ukraine', 'start': 66, 'end': 73}\n",
      "{'entity_group': 'PER', 'score': np.float32(0.9824114), 'word': 'Alexander Kokhanovsky', 'start': 102, 'end': 123}\n",
      "{'entity_group': 'PER', 'score': np.float32(0.99537945), 'word': 'Yevhen Zolotarov', 'start': 128, 'end': 144}\n",
      "{'entity_group': 'MISC', 'score': np.float32(0.99397165), 'word': 'Counter - Strike : Global Offensive', 'start': 181, 'end': 213}\n"
     ]
    }
   ],
   "source": [
    "model_name = \"dbmdz/bert-large-cased-finetuned-conll03-english\"\n",
    "tokenizer = AutoTokenizer.from_pretrained(model_name)\n",
    "model = AutoModelForTokenClassification.from_pretrained(model_name)\n",
    "\n",
    "\n",
    "nlp_ner = pipeline(\"ner\", model=model, tokenizer=tokenizer, grouped_entities=True)\n",
    "sentence = \"\"\"Natus Vincere is an ukrainian esports organization based in Kyiv, Ukraine. \n",
    "It was founded in 2009 by Alexander Kokhanovsky and Yevhen Zolotarov. \n",
    "The organization is known for its Counter-Strike: Global Offensive team, which has won multiple championships\n",
    "\"\"\"\n",
    "\n",
    "ner_results = nlp_ner(sentence)\n",
    "\n",
    "for entity in ner_results:\n",
    "    print(entity)"
   ]
  },
  {
   "cell_type": "code",
   "execution_count": 3,
   "id": "bc778e46",
   "metadata": {},
   "outputs": [
    {
     "data": {
      "text/html": [
       "<div>\n",
       "<style scoped>\n",
       "    .dataframe tbody tr th:only-of-type {\n",
       "        vertical-align: middle;\n",
       "    }\n",
       "\n",
       "    .dataframe tbody tr th {\n",
       "        vertical-align: top;\n",
       "    }\n",
       "\n",
       "    .dataframe thead th {\n",
       "        text-align: right;\n",
       "    }\n",
       "</style>\n",
       "<table border=\"1\" class=\"dataframe\">\n",
       "  <thead>\n",
       "    <tr style=\"text-align: right;\">\n",
       "      <th></th>\n",
       "      <th>text</th>\n",
       "      <th>entity</th>\n",
       "    </tr>\n",
       "  </thead>\n",
       "  <tbody>\n",
       "    <tr>\n",
       "      <th>0</th>\n",
       "      <td>Natus Vincere</td>\n",
       "      <td>ORG</td>\n",
       "    </tr>\n",
       "    <tr>\n",
       "      <th>1</th>\n",
       "      <td>ukrainian</td>\n",
       "      <td>MISC</td>\n",
       "    </tr>\n",
       "    <tr>\n",
       "      <th>2</th>\n",
       "      <td>Kyiv</td>\n",
       "      <td>LOC</td>\n",
       "    </tr>\n",
       "    <tr>\n",
       "      <th>3</th>\n",
       "      <td>Ukraine</td>\n",
       "      <td>LOC</td>\n",
       "    </tr>\n",
       "    <tr>\n",
       "      <th>4</th>\n",
       "      <td>Alexander Kokhanovsky</td>\n",
       "      <td>PER</td>\n",
       "    </tr>\n",
       "    <tr>\n",
       "      <th>5</th>\n",
       "      <td>Yevhen Zolotarov</td>\n",
       "      <td>PER</td>\n",
       "    </tr>\n",
       "    <tr>\n",
       "      <th>6</th>\n",
       "      <td>Counter - Strike : Global Offensive</td>\n",
       "      <td>MISC</td>\n",
       "    </tr>\n",
       "  </tbody>\n",
       "</table>\n",
       "</div>"
      ],
      "text/plain": [
       "                                  text entity\n",
       "0                        Natus Vincere    ORG\n",
       "1                            ukrainian   MISC\n",
       "2                                 Kyiv    LOC\n",
       "3                              Ukraine    LOC\n",
       "4                Alexander Kokhanovsky    PER\n",
       "5                     Yevhen Zolotarov    PER\n",
       "6  Counter - Strike : Global Offensive   MISC"
      ]
     },
     "execution_count": 3,
     "metadata": {},
     "output_type": "execute_result"
    }
   ],
   "source": [
    "data = [{'text': r['word'], 'entity': r['entity_group']} for r in ner_results]\n",
    "df = pd.DataFrame(data)\n",
    "\n",
    "df"
   ]
  },
  {
   "cell_type": "code",
   "execution_count": 8,
   "id": "8cad56b6",
   "metadata": {},
   "outputs": [
    {
     "name": "stdout",
     "output_type": "stream",
     "text": [
      "{'entity_group', 'start', 'score', 'word', 'end'}\n"
     ]
    }
   ],
   "source": [
    "all_keys = set()\n",
    "for d in ner_results:\n",
    "    all_keys.update(d.keys())\n",
    "print(all_keys)"
   ]
  }
 ],
 "metadata": {
  "kernelspec": {
   "display_name": "mlpytorch",
   "language": "python",
   "name": "python3"
  },
  "language_info": {
   "codemirror_mode": {
    "name": "ipython",
    "version": 3
   },
   "file_extension": ".py",
   "mimetype": "text/x-python",
   "name": "python",
   "nbconvert_exporter": "python",
   "pygments_lexer": "ipython3",
   "version": "3.13.5"
  }
 },
 "nbformat": 4,
 "nbformat_minor": 5
}
